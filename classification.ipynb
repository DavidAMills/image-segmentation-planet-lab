{
 "cells": [
  {
   "cell_type": "code",
   "execution_count": 1,
   "metadata": {},
   "outputs": [],
   "source": [
    "from scipy.stats import expon\n",
    "from sklearn import svm\n",
    "from sklearn.model_selection import RandomizedSearchCV\n",
    "import pickle\n",
    "import numpy as np\n",
    "import geopandas as gpd\n",
    "# from geopandas import GeoDataFrame\n",
    "import matplotlib\n",
    "from matplotlib import pyplot"
   ]
  },
  {
   "cell_type": "code",
   "execution_count": 2,
   "metadata": {},
   "outputs": [],
   "source": [
    "def train(X, Y):\n",
    "    \"\"\"\n",
    "    Train classification algorithm.\n",
    "    \n",
    "    Train the Support Vector Machine classification algorithm using the\n",
    "    specified fields. \n",
    "\n",
    "    Parameters\n",
    "    ----------\n",
    "    X: numpy 2D array\n",
    "        A 2D numpy array where there is one row for each segment and each\n",
    "        column represents an attribute of the segments. \n",
    "\n",
    "    Y: numpy 1D array\n",
    "        A 1D numpy array equal in length to the number of records in segments.\n",
    "        The single column contains actual class values for each of the\n",
    "        segments.\n",
    "\n",
    "    output_filename: string\n",
    "        Output filename of the pickled trained SVM model.\n",
    "\n",
    "    Returns\n",
    "    -------\n",
    "    model: svm.SVC\n",
    "        Returns a trained SVM model that can be used to classify other data.\n",
    "\n",
    "    \"\"\"\n",
    "    clf = svm.SVC()\n",
    "        \n",
    "    # specify parameters and distributions to sample from\n",
    "    param_dist = {'C': expon(scale=100),\n",
    "                  'gamma': expon(scale=.1),\n",
    "                  'kernel': ['rbf'],\n",
    "                  'class_weight':['balanced', None]}\n",
    "\n",
    "    # run randomized search\n",
    "    n_iter_search = 20\n",
    "    random_search = RandomizedSearchCV(clf, param_distributions=param_dist,\n",
    "                                   n_iter=n_iter_search)\n",
    "\n",
    "    random_search.fit(X, Y) # this may take time...\n",
    "    \n",
    "    return random_search"
   ]
  },
  {
   "cell_type": "code",
   "execution_count": 3,
   "metadata": {},
   "outputs": [],
   "source": [
    "def predict(model, X):\n",
    "    \"\"\"\n",
    "    Classify segments using a trained SVM model\n",
    "\n",
    "    Classify image segments using the trained Support Vector Machine model. \n",
    "\n",
    "    Parameters\n",
    "    ----------\n",
    "     model: svm.SVC\n",
    "        A trained SVM model that can be used to classify other data.\n",
    "\n",
    "    X: numpy 2D array\n",
    "        A 2D numpy array where there is one row for each segment and each\n",
    "        column represents an attribute of the segments. Identical to segments\n",
    "        from the train_classifier function.\n",
    "    \"\"\"\n",
    "    predictions = model.predict(X)\n",
    "\n",
    "    return predictions"
   ]
  },
  {
   "cell_type": "code",
   "execution_count": 4,
   "metadata": {},
   "outputs": [],
   "source": [
    "for_training = gpd.read_file(\"classified.gpkg\", layer=\"classified\")"
   ]
  },
  {
   "cell_type": "code",
   "execution_count": 5,
   "metadata": {},
   "outputs": [
    {
     "data": {
      "text/plain": [
       "<bound method NDFrame.head of       red_min  red_max     red_mean     red_std  green_min  green_max  \\\n",
       "0         0.0   1433.0   411.413793  461.613775        0.0     1654.0   \n",
       "1      1927.0   2081.0  2006.000000   62.933828     2140.0     2244.0   \n",
       "2      1019.0   1019.0  1019.000000    0.000000     1214.0     1214.0   \n",
       "3       686.0    888.0   811.800000   68.819765      849.0     1109.0   \n",
       "4       609.0    647.0   628.000000   19.000000      762.0      807.0   \n",
       "...       ...      ...          ...         ...        ...        ...   \n",
       "3179    859.0   1615.0  1113.633803  127.778444     1047.0     1785.0   \n",
       "3180    446.0   2834.0   644.519690  107.643272      525.0     3008.0   \n",
       "3181    690.0   1907.0  1011.882353  258.059531      877.0     2044.0   \n",
       "3182    488.0   1913.0   642.254941   93.160359      608.0     2180.0   \n",
       "3183    366.0   2068.0   667.287810  154.154120      489.0     2208.0   \n",
       "\n",
       "       green_mean   green_std  blue_min  blue_max  ...  major_axis_length  \\\n",
       "0      498.965517  551.760848       0.0    1900.0  ...          16.763449   \n",
       "1     2209.000000   48.792076    2397.0    2484.0  ...           2.309401   \n",
       "2     1214.000000    0.000000    1444.0    1444.0  ...           0.000000   \n",
       "3      995.200000   87.864441     994.0    1286.0  ...           5.656854   \n",
       "4      784.500000   22.500000     913.0     953.0  ...           2.000000   \n",
       "...           ...         ...       ...       ...  ...                ...   \n",
       "3179  1326.985915  121.962069    1288.0    2033.0  ...          18.948536   \n",
       "3180   754.433149  117.830792     603.0    3343.0  ...         449.036785   \n",
       "3181  1203.352941  250.475886    1049.0    2296.0  ...          71.822827   \n",
       "3182   747.430498  109.825184     652.0    2522.0  ...         220.018912   \n",
       "3183   823.161400  159.858024     507.0    2460.0  ...          88.251999   \n",
       "\n",
       "      minor_axis_length  orientation     sobel_min  sobel_max  sobel_mean  \\\n",
       "0              1.995204    -1.563585  6.115229e-03   0.015687    0.008931   \n",
       "1              1.333333    -0.785398  2.881524e-03   0.008281    0.005899   \n",
       "2              0.000000     0.785398  4.860094e-03   0.004860    0.004860   \n",
       "3              0.000000     1.570796  2.557631e-03   0.003394    0.003106   \n",
       "4              0.000000     0.000000  1.197858e-03   0.001816    0.001507   \n",
       "...                 ...          ...           ...        ...         ...   \n",
       "3179           8.879229    -0.022390  1.010010e-04   0.003429    0.000871   \n",
       "3180         108.042573    -1.556443  3.814755e-06   0.012192    0.000336   \n",
       "3181           1.248065    -1.570048  1.794558e-04   0.006993    0.001739   \n",
       "3182         123.474627     1.068733  3.066587e-19   0.007444    0.000327   \n",
       "3183          35.493939    -1.471790  8.530053e-06   0.009771    0.001230   \n",
       "\n",
       "      sobel_std    dn     classify  \\\n",
       "0      0.002457     4         None   \n",
       "1      0.002250     8         None   \n",
       "2      0.000000    10         None   \n",
       "3      0.000300    11         None   \n",
       "4      0.000309    13         None   \n",
       "...         ...   ...          ...   \n",
       "3179   0.000595  3136     pipeline   \n",
       "3180   0.000510  2879  undeveloped   \n",
       "3181   0.001470  3183         None   \n",
       "3182   0.000484  2821  undeveloped   \n",
       "3183   0.001123  3080    developed   \n",
       "\n",
       "                                               geometry  \n",
       "0     POLYGON ((627381.000 3310095.000, 627381.000 3...  \n",
       "1     POLYGON ((627369.000 3310089.000, 627369.000 3...  \n",
       "2     POLYGON ((627384.000 3310089.000, 627384.000 3...  \n",
       "3     POLYGON ((627387.000 3310089.000, 627387.000 3...  \n",
       "4     POLYGON ((627414.000 3310089.000, 627414.000 3...  \n",
       "...                                                 ...  \n",
       "3179  POLYGON ((624204.000 3306948.000, 624204.000 3...  \n",
       "3180  POLYGON ((625344.000 3307224.000, 625344.000 3...  \n",
       "3181  POLYGON ((625650.000 3306909.000, 625650.000 3...  \n",
       "3182  POLYGON ((625971.000 3307302.000, 625971.000 3...  \n",
       "3183  POLYGON ((627282.000 3307008.000, 627282.000 3...  \n",
       "\n",
       "[3184 rows x 26 columns]>"
      ]
     },
     "execution_count": 5,
     "metadata": {},
     "output_type": "execute_result"
    }
   ],
   "source": [
    "for_training.head"
   ]
  },
  {
   "cell_type": "code",
   "execution_count": 6,
   "metadata": {},
   "outputs": [],
   "source": [
    "big_train = for_training[~for_training[\"classify\"].isnull()]"
   ]
  },
  {
   "cell_type": "code",
   "execution_count": 7,
   "metadata": {},
   "outputs": [
    {
     "data": {
      "text/plain": [
       "<bound method NDFrame.head of       red_min  red_max     red_mean     red_std  green_min  green_max  \\\n",
       "263     834.0    834.0   834.000000    0.000000     1016.0     1016.0   \n",
       "268     817.0    817.0   817.000000    0.000000     1039.0     1039.0   \n",
       "271     782.0    782.0   782.000000    0.000000     1033.0     1033.0   \n",
       "288     402.0    532.0   461.292359   24.027688      545.0      644.0   \n",
       "289    1504.0   1504.0  1504.000000    0.000000     1630.0     1630.0   \n",
       "...       ...      ...          ...         ...        ...        ...   \n",
       "3178    475.0   1397.0   856.940426  147.482118      645.0     1533.0   \n",
       "3179    859.0   1615.0  1113.633803  127.778444     1047.0     1785.0   \n",
       "3180    446.0   2834.0   644.519690  107.643272      525.0     3008.0   \n",
       "3182    488.0   1913.0   642.254941   93.160359      608.0     2180.0   \n",
       "3183    366.0   2068.0   667.287810  154.154120      489.0     2208.0   \n",
       "\n",
       "       green_mean   green_std  blue_min  blue_max  ...  major_axis_length  \\\n",
       "263   1016.000000    0.000000    1183.0    1183.0  ...           0.000000   \n",
       "268   1039.000000    0.000000    1201.0    1201.0  ...           0.000000   \n",
       "271   1033.000000    0.000000    1205.0    1205.0  ...           0.000000   \n",
       "288    587.810631   15.074368     560.0     730.0  ...          21.208251   \n",
       "289   1630.000000    0.000000    1871.0    1871.0  ...           0.000000   \n",
       "...           ...         ...       ...       ...  ...                ...   \n",
       "3178  1036.927660  156.021531     678.0    1842.0  ...          47.984019   \n",
       "3179  1326.985915  121.962069    1288.0    2033.0  ...          18.948536   \n",
       "3180   754.433149  117.830792     603.0    3343.0  ...         449.036785   \n",
       "3182   747.430498  109.825184     652.0    2522.0  ...         220.018912   \n",
       "3183   823.161400  159.858024     507.0    2460.0  ...          88.251999   \n",
       "\n",
       "      minor_axis_length  orientation     sobel_min  sobel_max  sobel_mean  \\\n",
       "263            0.000000     0.785398  9.350821e-04   0.000935    0.000935   \n",
       "268            0.000000     0.785398  1.511110e-03   0.001511    0.001511   \n",
       "271            0.000000     0.785398  6.032864e-04   0.000603    0.000603   \n",
       "288           18.959941     0.484576  3.428548e-19   0.000796    0.000260   \n",
       "289            0.000000     0.785398  3.395030e-03   0.003395    0.003395   \n",
       "...                 ...          ...           ...        ...         ...   \n",
       "3178          15.216057    -1.253177  4.055141e-05   0.005553    0.001252   \n",
       "3179           8.879229    -0.022390  1.010010e-04   0.003429    0.000871   \n",
       "3180         108.042573    -1.556443  3.814755e-06   0.012192    0.000336   \n",
       "3182         123.474627     1.068733  3.066587e-19   0.007444    0.000327   \n",
       "3183          35.493939    -1.471790  8.530053e-06   0.009771    0.001230   \n",
       "\n",
       "      sobel_std    dn     classify  \\\n",
       "263    0.000000   306     pipeline   \n",
       "268    0.000000   313     pipeline   \n",
       "271    0.000000   317     pipeline   \n",
       "288    0.000147   279  undeveloped   \n",
       "289    0.000000   330     pipeline   \n",
       "...         ...   ...          ...   \n",
       "3178   0.000893  3121    developed   \n",
       "3179   0.000595  3136     pipeline   \n",
       "3180   0.000510  2879  undeveloped   \n",
       "3182   0.000484  2821  undeveloped   \n",
       "3183   0.001123  3080    developed   \n",
       "\n",
       "                                               geometry  \n",
       "263   POLYGON ((627138.000 3309828.000, 627138.000 3...  \n",
       "268   POLYGON ((627132.000 3309822.000, 627132.000 3...  \n",
       "271   POLYGON ((627126.000 3309819.000, 627126.000 3...  \n",
       "288   POLYGON ((626589.000 3309867.000, 626589.000 3...  \n",
       "289   POLYGON ((627054.000 3309804.000, 627054.000 3...  \n",
       "...                                                 ...  \n",
       "3178  POLYGON ((626298.000 3306966.000, 626298.000 3...  \n",
       "3179  POLYGON ((624204.000 3306948.000, 624204.000 3...  \n",
       "3180  POLYGON ((625344.000 3307224.000, 625344.000 3...  \n",
       "3182  POLYGON ((625971.000 3307302.000, 625971.000 3...  \n",
       "3183  POLYGON ((627282.000 3307008.000, 627282.000 3...  \n",
       "\n",
       "[1604 rows x 26 columns]>"
      ]
     },
     "execution_count": 7,
     "metadata": {},
     "output_type": "execute_result"
    }
   ],
   "source": [
    "big_train.head"
   ]
  },
  {
   "cell_type": "code",
   "execution_count": 8,
   "metadata": {},
   "outputs": [
    {
     "data": {
      "text/plain": [
       "<matplotlib.axes._subplots.AxesSubplot at 0x7ff1ad0a39e8>"
      ]
     },
     "execution_count": 8,
     "metadata": {},
     "output_type": "execute_result"
    },
    {
     "data": {
      "image/png": "[encoded data removed]",
      "text/plain": [
       "<Figure size 432x288 with 1 Axes>"
      ]
     },
     "metadata": {
      "needs_background": "light"
     },
     "output_type": "display_data"
    }
   ],
   "source": [
    "big_train.plot()"
   ]
  },
  {
   "cell_type": "code",
   "execution_count": 9,
   "metadata": {},
   "outputs": [
    {
     "data": {
      "text/plain": [
       "array(['red_min', 'red_max', 'red_mean', 'red_std', 'green_min',\n",
       "       'green_max', 'green_mean', 'green_std', 'blue_min', 'blue_max',\n",
       "       'blue_mean', 'blue_std', 'area', 'perimeter', 'eccentricity',\n",
       "       'equivalent_diameter', 'major_axis_length', 'minor_axis_length',\n",
       "       'orientation', 'sobel_min', 'sobel_max', 'sobel_mean', 'sobel_std',\n",
       "       'dn', 'classify', 'geometry'], dtype=object)"
      ]
     },
     "execution_count": 9,
     "metadata": {},
     "output_type": "execute_result"
    }
   ],
   "source": [
    "big_train.columns.values"
   ]
  },
  {
   "cell_type": "code",
   "execution_count": 10,
   "metadata": {},
   "outputs": [],
   "source": [
    "labels = big_train['classify']"
   ]
  },
  {
   "cell_type": "code",
   "execution_count": 11,
   "metadata": {},
   "outputs": [
    {
     "data": {
      "text/plain": [
       "263        pipeline\n",
       "268        pipeline\n",
       "271        pipeline\n",
       "288     undeveloped\n",
       "289        pipeline\n",
       "           ...     \n",
       "3178      developed\n",
       "3179       pipeline\n",
       "3180    undeveloped\n",
       "3182    undeveloped\n",
       "3183      developed\n",
       "Name: classify, Length: 1604, dtype: object"
      ]
     },
     "execution_count": 11,
     "metadata": {},
     "output_type": "execute_result"
    }
   ],
   "source": [
    "labels"
   ]
  },
  {
   "cell_type": "code",
   "execution_count": 12,
   "metadata": {},
   "outputs": [],
   "source": [
    "classes = big_train[['red_mean', 'green_mean', \"blue_mean\", \"eccentricity\", \"orientation\", \"sobel_max\"]]"
   ]
  },
  {
   "cell_type": "code",
   "execution_count": 13,
   "metadata": {},
   "outputs": [
    {
     "data": {
      "text/html": [
       "<div>\n",
       "<style scoped>\n",
       "    .dataframe tbody tr th:only-of-type {\n",
       "        vertical-align: middle;\n",
       "    }\n",
       "\n",
       "    .dataframe tbody tr th {\n",
       "        vertical-align: top;\n",
       "    }\n",
       "\n",
       "    .dataframe thead th {\n",
       "        text-align: right;\n",
       "    }\n",
       "</style>\n",
       "<table border=\"1\" class=\"dataframe\">\n",
       "  <thead>\n",
       "    <tr style=\"text-align: right;\">\n",
       "      <th></th>\n",
       "      <th>red_mean</th>\n",
       "      <th>green_mean</th>\n",
       "      <th>blue_mean</th>\n",
       "      <th>eccentricity</th>\n",
       "      <th>orientation</th>\n",
       "      <th>sobel_max</th>\n",
       "    </tr>\n",
       "  </thead>\n",
       "  <tbody>\n",
       "    <tr>\n",
       "      <th>263</th>\n",
       "      <td>834.000000</td>\n",
       "      <td>1016.000000</td>\n",
       "      <td>1183.000000</td>\n",
       "      <td>0.000000</td>\n",
       "      <td>0.785398</td>\n",
       "      <td>0.000935</td>\n",
       "    </tr>\n",
       "    <tr>\n",
       "      <th>268</th>\n",
       "      <td>817.000000</td>\n",
       "      <td>1039.000000</td>\n",
       "      <td>1201.000000</td>\n",
       "      <td>0.000000</td>\n",
       "      <td>0.785398</td>\n",
       "      <td>0.001511</td>\n",
       "    </tr>\n",
       "    <tr>\n",
       "      <th>271</th>\n",
       "      <td>782.000000</td>\n",
       "      <td>1033.000000</td>\n",
       "      <td>1205.000000</td>\n",
       "      <td>0.000000</td>\n",
       "      <td>0.785398</td>\n",
       "      <td>0.000603</td>\n",
       "    </tr>\n",
       "    <tr>\n",
       "      <th>288</th>\n",
       "      <td>461.292359</td>\n",
       "      <td>587.810631</td>\n",
       "      <td>619.000000</td>\n",
       "      <td>0.448089</td>\n",
       "      <td>0.484576</td>\n",
       "      <td>0.000796</td>\n",
       "    </tr>\n",
       "    <tr>\n",
       "      <th>289</th>\n",
       "      <td>1504.000000</td>\n",
       "      <td>1630.000000</td>\n",
       "      <td>1871.000000</td>\n",
       "      <td>0.000000</td>\n",
       "      <td>0.785398</td>\n",
       "      <td>0.003395</td>\n",
       "    </tr>\n",
       "    <tr>\n",
       "      <th>...</th>\n",
       "      <td>...</td>\n",
       "      <td>...</td>\n",
       "      <td>...</td>\n",
       "      <td>...</td>\n",
       "      <td>...</td>\n",
       "      <td>...</td>\n",
       "    </tr>\n",
       "    <tr>\n",
       "      <th>3178</th>\n",
       "      <td>856.940426</td>\n",
       "      <td>1036.927660</td>\n",
       "      <td>1251.274468</td>\n",
       "      <td>0.948390</td>\n",
       "      <td>-1.253177</td>\n",
       "      <td>0.005553</td>\n",
       "    </tr>\n",
       "    <tr>\n",
       "      <th>3179</th>\n",
       "      <td>1113.633803</td>\n",
       "      <td>1326.985915</td>\n",
       "      <td>1626.760563</td>\n",
       "      <td>0.883412</td>\n",
       "      <td>-0.022390</td>\n",
       "      <td>0.003429</td>\n",
       "    </tr>\n",
       "    <tr>\n",
       "      <th>3180</th>\n",
       "      <td>644.519690</td>\n",
       "      <td>754.433149</td>\n",
       "      <td>891.067656</td>\n",
       "      <td>0.970622</td>\n",
       "      <td>-1.556443</td>\n",
       "      <td>0.012192</td>\n",
       "    </tr>\n",
       "    <tr>\n",
       "      <th>3182</th>\n",
       "      <td>642.254941</td>\n",
       "      <td>747.430498</td>\n",
       "      <td>845.835924</td>\n",
       "      <td>0.827680</td>\n",
       "      <td>1.068733</td>\n",
       "      <td>0.007444</td>\n",
       "    </tr>\n",
       "    <tr>\n",
       "      <th>3183</th>\n",
       "      <td>667.287810</td>\n",
       "      <td>823.161400</td>\n",
       "      <td>917.926072</td>\n",
       "      <td>0.915557</td>\n",
       "      <td>-1.471790</td>\n",
       "      <td>0.009771</td>\n",
       "    </tr>\n",
       "  </tbody>\n",
       "</table>\n",
       "<p>1604 rows × 6 columns</p>\n",
       "</div>"
      ],
      "text/plain": [
       "         red_mean   green_mean    blue_mean  eccentricity  orientation  \\\n",
       "263    834.000000  1016.000000  1183.000000      0.000000     0.785398   \n",
       "268    817.000000  1039.000000  1201.000000      0.000000     0.785398   \n",
       "271    782.000000  1033.000000  1205.000000      0.000000     0.785398   \n",
       "288    461.292359   587.810631   619.000000      0.448089     0.484576   \n",
       "289   1504.000000  1630.000000  1871.000000      0.000000     0.785398   \n",
       "...           ...          ...          ...           ...          ...   \n",
       "3178   856.940426  1036.927660  1251.274468      0.948390    -1.253177   \n",
       "3179  1113.633803  1326.985915  1626.760563      0.883412    -0.022390   \n",
       "3180   644.519690   754.433149   891.067656      0.970622    -1.556443   \n",
       "3182   642.254941   747.430498   845.835924      0.827680     1.068733   \n",
       "3183   667.287810   823.161400   917.926072      0.915557    -1.471790   \n",
       "\n",
       "      sobel_max  \n",
       "263    0.000935  \n",
       "268    0.001511  \n",
       "271    0.000603  \n",
       "288    0.000796  \n",
       "289    0.003395  \n",
       "...         ...  \n",
       "3178   0.005553  \n",
       "3179   0.003429  \n",
       "3180   0.012192  \n",
       "3182   0.007444  \n",
       "3183   0.009771  \n",
       "\n",
       "[1604 rows x 6 columns]"
      ]
     },
     "execution_count": 13,
     "metadata": {},
     "output_type": "execute_result"
    }
   ],
   "source": [
    "classes"
   ]
  },
  {
   "cell_type": "code",
   "execution_count": 14,
   "metadata": {},
   "outputs": [
    {
     "data": {
      "text/plain": [
       "pandas.core.frame.DataFrame"
      ]
     },
     "execution_count": 14,
     "metadata": {},
     "output_type": "execute_result"
    }
   ],
   "source": [
    "type(classes)"
   ]
  },
  {
   "cell_type": "code",
   "execution_count": 15,
   "metadata": {},
   "outputs": [
    {
     "data": {
      "text/plain": [
       "pandas.core.series.Series"
      ]
     },
     "execution_count": 15,
     "metadata": {},
     "output_type": "execute_result"
    }
   ],
   "source": [
    "type(labels)"
   ]
  },
  {
   "cell_type": "code",
   "execution_count": 16,
   "metadata": {},
   "outputs": [
    {
     "name": "stderr",
     "output_type": "stream",
     "text": [
      "/home/davidm/.local/lib/python3.7/site-packages/sklearn/model_selection/_split.py:1978: FutureWarning: The default value of cv will change from 3 to 5 in version 0.22. Specify it explicitly to silence this warning.\n",
      "  warnings.warn(CV_WARNING, FutureWarning)\n"
     ]
    }
   ],
   "source": [
    "model = train(classes, labels)"
   ]
  },
  {
   "cell_type": "code",
   "execution_count": 17,
   "metadata": {},
   "outputs": [
    {
     "data": {
      "text/plain": [
       "sklearn.model_selection._search.RandomizedSearchCV"
      ]
     },
     "execution_count": 17,
     "metadata": {},
     "output_type": "execute_result"
    }
   ],
   "source": [
    "type(model)"
   ]
  },
  {
   "cell_type": "code",
   "execution_count": 18,
   "metadata": {},
   "outputs": [],
   "source": [
    "test = predict(model,classes)"
   ]
  },
  {
   "cell_type": "code",
   "execution_count": 19,
   "metadata": {},
   "outputs": [
    {
     "data": {
      "text/plain": [
       "numpy.ndarray"
      ]
     },
     "execution_count": 19,
     "metadata": {},
     "output_type": "execute_result"
    }
   ],
   "source": [
    "type(test)"
   ]
  },
  {
   "cell_type": "code",
   "execution_count": 20,
   "metadata": {},
   "outputs": [
    {
     "name": "stdout",
     "output_type": "stream",
     "text": [
      "['pipeline' 'pipeline' 'pipeline' ... 'undeveloped' 'undeveloped'\n",
      " 'developed']\n"
     ]
    }
   ],
   "source": [
    "print(test)"
   ]
  },
  {
   "cell_type": "code",
   "execution_count": 21,
   "metadata": {},
   "outputs": [
    {
     "name": "stdout",
     "output_type": "stream",
     "text": [
      "1604\n"
     ]
    }
   ],
   "source": [
    "print(len(test))"
   ]
  },
  {
   "cell_type": "code",
   "execution_count": 22,
   "metadata": {},
   "outputs": [
    {
     "name": "stderr",
     "output_type": "stream",
     "text": [
      "/usr/lib/python3/dist-packages/ipykernel_launcher.py:1: SettingWithCopyWarning: \n",
      "A value is trying to be set on a copy of a slice from a DataFrame.\n",
      "Try using .loc[row_indexer,col_indexer] = value instead\n",
      "\n",
      "See the caveats in the documentation: http://pandas.pydata.org/pandas-docs/stable/user_guide/indexing.html#returning-a-view-versus-a-copy\n",
      "  \"\"\"Entry point for launching an IPython kernel.\n"
     ]
    }
   ],
   "source": [
    "big_train[\"new_class\"] = test"
   ]
  },
  {
   "cell_type": "code",
   "execution_count": 23,
   "metadata": {},
   "outputs": [
    {
     "data": {
      "text/html": [
       "<div>\n",
       "<style scoped>\n",
       "    .dataframe tbody tr th:only-of-type {\n",
       "        vertical-align: middle;\n",
       "    }\n",
       "\n",
       "    .dataframe tbody tr th {\n",
       "        vertical-align: top;\n",
       "    }\n",
       "\n",
       "    .dataframe thead th {\n",
       "        text-align: right;\n",
       "    }\n",
       "</style>\n",
       "<table border=\"1\" class=\"dataframe\">\n",
       "  <thead>\n",
       "    <tr style=\"text-align: right;\">\n",
       "      <th></th>\n",
       "      <th>red_min</th>\n",
       "      <th>red_max</th>\n",
       "      <th>red_mean</th>\n",
       "      <th>red_std</th>\n",
       "      <th>green_min</th>\n",
       "      <th>green_max</th>\n",
       "      <th>green_mean</th>\n",
       "      <th>green_std</th>\n",
       "      <th>blue_min</th>\n",
       "      <th>blue_max</th>\n",
       "      <th>...</th>\n",
       "      <th>minor_axis_length</th>\n",
       "      <th>orientation</th>\n",
       "      <th>sobel_min</th>\n",
       "      <th>sobel_max</th>\n",
       "      <th>sobel_mean</th>\n",
       "      <th>sobel_std</th>\n",
       "      <th>dn</th>\n",
       "      <th>classify</th>\n",
       "      <th>geometry</th>\n",
       "      <th>new_class</th>\n",
       "    </tr>\n",
       "  </thead>\n",
       "  <tbody>\n",
       "    <tr>\n",
       "      <th>263</th>\n",
       "      <td>834.0</td>\n",
       "      <td>834.0</td>\n",
       "      <td>834.000000</td>\n",
       "      <td>0.000000</td>\n",
       "      <td>1016.0</td>\n",
       "      <td>1016.0</td>\n",
       "      <td>1016.000000</td>\n",
       "      <td>0.000000</td>\n",
       "      <td>1183.0</td>\n",
       "      <td>1183.0</td>\n",
       "      <td>...</td>\n",
       "      <td>0.000000</td>\n",
       "      <td>0.785398</td>\n",
       "      <td>9.350821e-04</td>\n",
       "      <td>0.000935</td>\n",
       "      <td>0.000935</td>\n",
       "      <td>0.000000</td>\n",
       "      <td>306</td>\n",
       "      <td>pipeline</td>\n",
       "      <td>POLYGON ((627138.000 3309828.000, 627138.000 3...</td>\n",
       "      <td>pipeline</td>\n",
       "    </tr>\n",
       "    <tr>\n",
       "      <th>268</th>\n",
       "      <td>817.0</td>\n",
       "      <td>817.0</td>\n",
       "      <td>817.000000</td>\n",
       "      <td>0.000000</td>\n",
       "      <td>1039.0</td>\n",
       "      <td>1039.0</td>\n",
       "      <td>1039.000000</td>\n",
       "      <td>0.000000</td>\n",
       "      <td>1201.0</td>\n",
       "      <td>1201.0</td>\n",
       "      <td>...</td>\n",
       "      <td>0.000000</td>\n",
       "      <td>0.785398</td>\n",
       "      <td>1.511110e-03</td>\n",
       "      <td>0.001511</td>\n",
       "      <td>0.001511</td>\n",
       "      <td>0.000000</td>\n",
       "      <td>313</td>\n",
       "      <td>pipeline</td>\n",
       "      <td>POLYGON ((627132.000 3309822.000, 627132.000 3...</td>\n",
       "      <td>pipeline</td>\n",
       "    </tr>\n",
       "    <tr>\n",
       "      <th>271</th>\n",
       "      <td>782.0</td>\n",
       "      <td>782.0</td>\n",
       "      <td>782.000000</td>\n",
       "      <td>0.000000</td>\n",
       "      <td>1033.0</td>\n",
       "      <td>1033.0</td>\n",
       "      <td>1033.000000</td>\n",
       "      <td>0.000000</td>\n",
       "      <td>1205.0</td>\n",
       "      <td>1205.0</td>\n",
       "      <td>...</td>\n",
       "      <td>0.000000</td>\n",
       "      <td>0.785398</td>\n",
       "      <td>6.032864e-04</td>\n",
       "      <td>0.000603</td>\n",
       "      <td>0.000603</td>\n",
       "      <td>0.000000</td>\n",
       "      <td>317</td>\n",
       "      <td>pipeline</td>\n",
       "      <td>POLYGON ((627126.000 3309819.000, 627126.000 3...</td>\n",
       "      <td>pipeline</td>\n",
       "    </tr>\n",
       "    <tr>\n",
       "      <th>288</th>\n",
       "      <td>402.0</td>\n",
       "      <td>532.0</td>\n",
       "      <td>461.292359</td>\n",
       "      <td>24.027688</td>\n",
       "      <td>545.0</td>\n",
       "      <td>644.0</td>\n",
       "      <td>587.810631</td>\n",
       "      <td>15.074368</td>\n",
       "      <td>560.0</td>\n",
       "      <td>730.0</td>\n",
       "      <td>...</td>\n",
       "      <td>18.959941</td>\n",
       "      <td>0.484576</td>\n",
       "      <td>3.428548e-19</td>\n",
       "      <td>0.000796</td>\n",
       "      <td>0.000260</td>\n",
       "      <td>0.000147</td>\n",
       "      <td>279</td>\n",
       "      <td>undeveloped</td>\n",
       "      <td>POLYGON ((626589.000 3309867.000, 626589.000 3...</td>\n",
       "      <td>undeveloped</td>\n",
       "    </tr>\n",
       "    <tr>\n",
       "      <th>289</th>\n",
       "      <td>1504.0</td>\n",
       "      <td>1504.0</td>\n",
       "      <td>1504.000000</td>\n",
       "      <td>0.000000</td>\n",
       "      <td>1630.0</td>\n",
       "      <td>1630.0</td>\n",
       "      <td>1630.000000</td>\n",
       "      <td>0.000000</td>\n",
       "      <td>1871.0</td>\n",
       "      <td>1871.0</td>\n",
       "      <td>...</td>\n",
       "      <td>0.000000</td>\n",
       "      <td>0.785398</td>\n",
       "      <td>3.395030e-03</td>\n",
       "      <td>0.003395</td>\n",
       "      <td>0.003395</td>\n",
       "      <td>0.000000</td>\n",
       "      <td>330</td>\n",
       "      <td>pipeline</td>\n",
       "      <td>POLYGON ((627054.000 3309804.000, 627054.000 3...</td>\n",
       "      <td>pipeline</td>\n",
       "    </tr>\n",
       "    <tr>\n",
       "      <th>...</th>\n",
       "      <td>...</td>\n",
       "      <td>...</td>\n",
       "      <td>...</td>\n",
       "      <td>...</td>\n",
       "      <td>...</td>\n",
       "      <td>...</td>\n",
       "      <td>...</td>\n",
       "      <td>...</td>\n",
       "      <td>...</td>\n",
       "      <td>...</td>\n",
       "      <td>...</td>\n",
       "      <td>...</td>\n",
       "      <td>...</td>\n",
       "      <td>...</td>\n",
       "      <td>...</td>\n",
       "      <td>...</td>\n",
       "      <td>...</td>\n",
       "      <td>...</td>\n",
       "      <td>...</td>\n",
       "      <td>...</td>\n",
       "      <td>...</td>\n",
       "    </tr>\n",
       "    <tr>\n",
       "      <th>3178</th>\n",
       "      <td>475.0</td>\n",
       "      <td>1397.0</td>\n",
       "      <td>856.940426</td>\n",
       "      <td>147.482118</td>\n",
       "      <td>645.0</td>\n",
       "      <td>1533.0</td>\n",
       "      <td>1036.927660</td>\n",
       "      <td>156.021531</td>\n",
       "      <td>678.0</td>\n",
       "      <td>1842.0</td>\n",
       "      <td>...</td>\n",
       "      <td>15.216057</td>\n",
       "      <td>-1.253177</td>\n",
       "      <td>4.055141e-05</td>\n",
       "      <td>0.005553</td>\n",
       "      <td>0.001252</td>\n",
       "      <td>0.000893</td>\n",
       "      <td>3121</td>\n",
       "      <td>developed</td>\n",
       "      <td>POLYGON ((626298.000 3306966.000, 626298.000 3...</td>\n",
       "      <td>developed</td>\n",
       "    </tr>\n",
       "    <tr>\n",
       "      <th>3179</th>\n",
       "      <td>859.0</td>\n",
       "      <td>1615.0</td>\n",
       "      <td>1113.633803</td>\n",
       "      <td>127.778444</td>\n",
       "      <td>1047.0</td>\n",
       "      <td>1785.0</td>\n",
       "      <td>1326.985915</td>\n",
       "      <td>121.962069</td>\n",
       "      <td>1288.0</td>\n",
       "      <td>2033.0</td>\n",
       "      <td>...</td>\n",
       "      <td>8.879229</td>\n",
       "      <td>-0.022390</td>\n",
       "      <td>1.010010e-04</td>\n",
       "      <td>0.003429</td>\n",
       "      <td>0.000871</td>\n",
       "      <td>0.000595</td>\n",
       "      <td>3136</td>\n",
       "      <td>pipeline</td>\n",
       "      <td>POLYGON ((624204.000 3306948.000, 624204.000 3...</td>\n",
       "      <td>pipeline</td>\n",
       "    </tr>\n",
       "    <tr>\n",
       "      <th>3180</th>\n",
       "      <td>446.0</td>\n",
       "      <td>2834.0</td>\n",
       "      <td>644.519690</td>\n",
       "      <td>107.643272</td>\n",
       "      <td>525.0</td>\n",
       "      <td>3008.0</td>\n",
       "      <td>754.433149</td>\n",
       "      <td>117.830792</td>\n",
       "      <td>603.0</td>\n",
       "      <td>3343.0</td>\n",
       "      <td>...</td>\n",
       "      <td>108.042573</td>\n",
       "      <td>-1.556443</td>\n",
       "      <td>3.814755e-06</td>\n",
       "      <td>0.012192</td>\n",
       "      <td>0.000336</td>\n",
       "      <td>0.000510</td>\n",
       "      <td>2879</td>\n",
       "      <td>undeveloped</td>\n",
       "      <td>POLYGON ((625344.000 3307224.000, 625344.000 3...</td>\n",
       "      <td>undeveloped</td>\n",
       "    </tr>\n",
       "    <tr>\n",
       "      <th>3182</th>\n",
       "      <td>488.0</td>\n",
       "      <td>1913.0</td>\n",
       "      <td>642.254941</td>\n",
       "      <td>93.160359</td>\n",
       "      <td>608.0</td>\n",
       "      <td>2180.0</td>\n",
       "      <td>747.430498</td>\n",
       "      <td>109.825184</td>\n",
       "      <td>652.0</td>\n",
       "      <td>2522.0</td>\n",
       "      <td>...</td>\n",
       "      <td>123.474627</td>\n",
       "      <td>1.068733</td>\n",
       "      <td>3.066587e-19</td>\n",
       "      <td>0.007444</td>\n",
       "      <td>0.000327</td>\n",
       "      <td>0.000484</td>\n",
       "      <td>2821</td>\n",
       "      <td>undeveloped</td>\n",
       "      <td>POLYGON ((625971.000 3307302.000, 625971.000 3...</td>\n",
       "      <td>undeveloped</td>\n",
       "    </tr>\n",
       "    <tr>\n",
       "      <th>3183</th>\n",
       "      <td>366.0</td>\n",
       "      <td>2068.0</td>\n",
       "      <td>667.287810</td>\n",
       "      <td>154.154120</td>\n",
       "      <td>489.0</td>\n",
       "      <td>2208.0</td>\n",
       "      <td>823.161400</td>\n",
       "      <td>159.858024</td>\n",
       "      <td>507.0</td>\n",
       "      <td>2460.0</td>\n",
       "      <td>...</td>\n",
       "      <td>35.493939</td>\n",
       "      <td>-1.471790</td>\n",
       "      <td>8.530053e-06</td>\n",
       "      <td>0.009771</td>\n",
       "      <td>0.001230</td>\n",
       "      <td>0.001123</td>\n",
       "      <td>3080</td>\n",
       "      <td>developed</td>\n",
       "      <td>POLYGON ((627282.000 3307008.000, 627282.000 3...</td>\n",
       "      <td>developed</td>\n",
       "    </tr>\n",
       "  </tbody>\n",
       "</table>\n",
       "<p>1604 rows × 27 columns</p>\n",
       "</div>"
      ],
      "text/plain": [
       "      red_min  red_max     red_mean     red_std  green_min  green_max  \\\n",
       "263     834.0    834.0   834.000000    0.000000     1016.0     1016.0   \n",
       "268     817.0    817.0   817.000000    0.000000     1039.0     1039.0   \n",
       "271     782.0    782.0   782.000000    0.000000     1033.0     1033.0   \n",
       "288     402.0    532.0   461.292359   24.027688      545.0      644.0   \n",
       "289    1504.0   1504.0  1504.000000    0.000000     1630.0     1630.0   \n",
       "...       ...      ...          ...         ...        ...        ...   \n",
       "3178    475.0   1397.0   856.940426  147.482118      645.0     1533.0   \n",
       "3179    859.0   1615.0  1113.633803  127.778444     1047.0     1785.0   \n",
       "3180    446.0   2834.0   644.519690  107.643272      525.0     3008.0   \n",
       "3182    488.0   1913.0   642.254941   93.160359      608.0     2180.0   \n",
       "3183    366.0   2068.0   667.287810  154.154120      489.0     2208.0   \n",
       "\n",
       "       green_mean   green_std  blue_min  blue_max  ...  minor_axis_length  \\\n",
       "263   1016.000000    0.000000    1183.0    1183.0  ...           0.000000   \n",
       "268   1039.000000    0.000000    1201.0    1201.0  ...           0.000000   \n",
       "271   1033.000000    0.000000    1205.0    1205.0  ...           0.000000   \n",
       "288    587.810631   15.074368     560.0     730.0  ...          18.959941   \n",
       "289   1630.000000    0.000000    1871.0    1871.0  ...           0.000000   \n",
       "...           ...         ...       ...       ...  ...                ...   \n",
       "3178  1036.927660  156.021531     678.0    1842.0  ...          15.216057   \n",
       "3179  1326.985915  121.962069    1288.0    2033.0  ...           8.879229   \n",
       "3180   754.433149  117.830792     603.0    3343.0  ...         108.042573   \n",
       "3182   747.430498  109.825184     652.0    2522.0  ...         123.474627   \n",
       "3183   823.161400  159.858024     507.0    2460.0  ...          35.493939   \n",
       "\n",
       "      orientation     sobel_min  sobel_max  sobel_mean  sobel_std    dn  \\\n",
       "263      0.785398  9.350821e-04   0.000935    0.000935   0.000000   306   \n",
       "268      0.785398  1.511110e-03   0.001511    0.001511   0.000000   313   \n",
       "271      0.785398  6.032864e-04   0.000603    0.000603   0.000000   317   \n",
       "288      0.484576  3.428548e-19   0.000796    0.000260   0.000147   279   \n",
       "289      0.785398  3.395030e-03   0.003395    0.003395   0.000000   330   \n",
       "...           ...           ...        ...         ...        ...   ...   \n",
       "3178    -1.253177  4.055141e-05   0.005553    0.001252   0.000893  3121   \n",
       "3179    -0.022390  1.010010e-04   0.003429    0.000871   0.000595  3136   \n",
       "3180    -1.556443  3.814755e-06   0.012192    0.000336   0.000510  2879   \n",
       "3182     1.068733  3.066587e-19   0.007444    0.000327   0.000484  2821   \n",
       "3183    -1.471790  8.530053e-06   0.009771    0.001230   0.001123  3080   \n",
       "\n",
       "         classify                                           geometry  \\\n",
       "263      pipeline  POLYGON ((627138.000 3309828.000, 627138.000 3...   \n",
       "268      pipeline  POLYGON ((627132.000 3309822.000, 627132.000 3...   \n",
       "271      pipeline  POLYGON ((627126.000 3309819.000, 627126.000 3...   \n",
       "288   undeveloped  POLYGON ((626589.000 3309867.000, 626589.000 3...   \n",
       "289      pipeline  POLYGON ((627054.000 3309804.000, 627054.000 3...   \n",
       "...           ...                                                ...   \n",
       "3178    developed  POLYGON ((626298.000 3306966.000, 626298.000 3...   \n",
       "3179     pipeline  POLYGON ((624204.000 3306948.000, 624204.000 3...   \n",
       "3180  undeveloped  POLYGON ((625344.000 3307224.000, 625344.000 3...   \n",
       "3182  undeveloped  POLYGON ((625971.000 3307302.000, 625971.000 3...   \n",
       "3183    developed  POLYGON ((627282.000 3307008.000, 627282.000 3...   \n",
       "\n",
       "        new_class  \n",
       "263      pipeline  \n",
       "268      pipeline  \n",
       "271      pipeline  \n",
       "288   undeveloped  \n",
       "289      pipeline  \n",
       "...           ...  \n",
       "3178    developed  \n",
       "3179     pipeline  \n",
       "3180  undeveloped  \n",
       "3182  undeveloped  \n",
       "3183    developed  \n",
       "\n",
       "[1604 rows x 27 columns]"
      ]
     },
     "execution_count": 23,
     "metadata": {},
     "output_type": "execute_result"
    }
   ],
   "source": [
    "big_train"
   ]
  },
  {
   "cell_type": "code",
   "execution_count": 26,
   "metadata": {},
   "outputs": [],
   "source": [
    "test_set = for_training[['red_mean', 'green_mean', \"blue_mean\", \"eccentricity\", \"orientation\", \"sobel_max\"]]"
   ]
  },
  {
   "cell_type": "code",
   "execution_count": 28,
   "metadata": {},
   "outputs": [],
   "source": [
    "final_predict = predict(model,test_set)"
   ]
  },
  {
   "cell_type": "code",
   "execution_count": 29,
   "metadata": {},
   "outputs": [],
   "source": [
    "for_training[\"new_class\"] = final_predict"
   ]
  },
  {
   "cell_type": "code",
   "execution_count": 32,
   "metadata": {},
   "outputs": [
    {
     "data": {
      "image/png": "[encoded data removed]",
      "text/plain": [
       "<Figure size 432x288 with 1 Axes>"
      ]
     },
     "metadata": {
      "needs_background": "light"
     },
     "output_type": "display_data"
    }
   ],
   "source": [
    "for_training.plot()\n",
    "for_training.head()\n",
    "for_training.to_file(\"some_name.shp\")"
   ]
  },
  {
   "cell_type": "code",
   "execution_count": 34,
   "metadata": {},
   "outputs": [],
   "source": [
    "import time"
   ]
  },
  {
   "cell_type": "code",
   "execution_count": 35,
   "metadata": {},
   "outputs": [
    {
     "name": "stderr",
     "output_type": "stream",
     "text": [
      "/usr/lib/python3/dist-packages/ipykernel_launcher.py:1: DeprecationWarning: time.clock has been deprecated in Python 3.3 and will be removed from Python 3.8: use time.perf_counter or time.process_time instead\n",
      "  \"\"\"Entry point for launching an IPython kernel.\n"
     ]
    },
    {
     "name": "stdout",
     "output_type": "stream",
     "text": [
      "CPU\n",
      "2.6677859999999995\n"
     ]
    },
    {
     "name": "stderr",
     "output_type": "stream",
     "text": [
      "/usr/lib/python3/dist-packages/ipykernel_launcher.py:8: DeprecationWarning: time.clock has been deprecated in Python 3.3 and will be removed from Python 3.8: use time.perf_counter or time.process_time instead\n",
      "  \n"
     ]
    }
   ],
   "source": [
    "time_start = time.clock()\n",
    "# Use training data to classify a new window.\n",
    "next_window = gpd.read_file(\"geobia2.gpkg\", layer=\"ready2classify\")\n",
    "next_window_set = next_window[['red_mean', 'green_mean', \"blue_mean\", \"eccentricity\", \"orientation\", \"sobel_max\"]]\n",
    "next_window_predict = predict(model,next_window_set)\n",
    "next_window[\"new_class\"] = next_window_predict\n",
    "next_window.to_file(\"next_window.shp\")\n",
    "time_elapsed = (time.clock() - time_start)\n",
    "print(\"CPU\")\n",
    "print(time_elapsed)"
   ]
  }
 ],
 "metadata": {
  "kernelspec": {
   "display_name": "Python 3",
   "language": "python",
   "name": "python3"
  },
  "language_info": {
   "codemirror_mode": {
    "name": "ipython",
    "version": 3
   },
   "file_extension": ".py",
   "mimetype": "text/x-python",
   "name": "python",
   "nbconvert_exporter": "python",
   "pygments_lexer": "ipython3",
   "version": "3.7.3"
  }
 },
 "nbformat": 4,
 "nbformat_minor": 4
}
